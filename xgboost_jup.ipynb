{
 "cells": [
  {
   "cell_type": "code",
   "execution_count": 38,
   "metadata": {},
   "outputs": [],
   "source": [
    "\n",
    "import pandas as pd\n",
    "from xgboost import XGBRegressor\n",
    "from sklearn.model_selection import train_test_split\n",
    "from sklearn.metrics import accuracy_score\n",
    "from pre_processing import pre_process\n",
    "from validation import prepare_output, calculate_score, calculate_distance"
   ]
  },
  {
   "cell_type": "markdown",
   "metadata": {},
   "source": [
    "# Split Data into Training and Validation Sets\n"
   ]
  },
  {
   "cell_type": "code",
   "execution_count": 39,
   "metadata": {},
   "outputs": [
    {
     "name": "stdout",
     "output_type": "stream",
     "text": [
      "X-train          latitude  longitude  time_diff\n",
      "280335   53.81436    6.94719     1218.0\n",
      "439387   39.32004    0.65303     1247.0\n",
      "1462433 -36.84273  174.76921     1080.0\n",
      "638157   53.56716    8.55684     1080.0\n",
      "774608   53.34197    7.19884     1261.0\n",
      "X-val          latitude  longitude  time_diff\n",
      "753652   52.56969    3.86592     1201.0\n",
      "1241803  39.50363    1.22598     1292.0\n",
      "691216   53.46115   -3.01964     1266.0\n",
      "1427736  49.68189   -0.07656     1210.0\n",
      "720525   25.00603   51.60019     1991.0\n",
      "y-train          latitude  longitude\n",
      "280335   53.83775    7.10751\n",
      "439387   39.22727    0.61780\n",
      "1462433 -36.84274  174.76922\n",
      "638157   53.56715    8.55683\n",
      "774608   53.34199    7.19880\n",
      "y-val          latitude  longitude\n",
      "753652   52.63424    3.96285\n",
      "1241803  39.51232    1.08328\n",
      "691216   53.46115   -3.01966\n",
      "1427736  49.73847   -0.03331\n",
      "720525   25.00601   51.60019\n"
     ]
    }
   ],
   "source": [
    "# Load your features and labels datasets\n",
    "features = pd.read_csv('data/features.csv')\n",
    "labels = pd.read_csv('data/labels.csv')\n",
    "\n",
    "# Check the structure of both dataframes to ensure they match\n",
    "# print(features.shape, features.head())  # Ensure the number of rows match in features and labels\n",
    "# print(labels.shape, labels.head())\n",
    "\n",
    "# Split the features and labels into training and validation sets\n",
    "X_train, X_val, y_train, y_val = train_test_split(features, labels, test_size=0.1) #, random_state=42)\n",
    "\n",
    "print(\"X-train\", X_train.head())\n",
    "print(\"X-val\", X_val.head())\n",
    "print(\"y-train\", y_train.head())\n",
    "print(\"y-val\", y_val.head())\n"
   ]
  },
  {
   "cell_type": "markdown",
   "metadata": {},
   "source": [
    "# Initialize and Train the XGBoost Model\n"
   ]
  },
  {
   "cell_type": "code",
   "execution_count": 40,
   "metadata": {},
   "outputs": [],
   "source": [
    "# Initialize the XGBoost model for predicting latitude\n",
    "model_lat = XGBRegressor(n_estimators=1500, max_depth=5, learning_rate=0.1, objective='reg:squarederror')\n",
    "\n",
    "# Initialize the XGBoost model for predicting longitude\n",
    "model_long = XGBRegressor(n_estimators=1500, max_depth=5, learning_rate=0.1, objective='reg:squarederror')\n",
    "\n",
    "# Fit the models\n",
    "model_lat.fit(X_train, y_train['latitude'])\n",
    "model_long.fit(X_train, y_train['longitude'])\n"
   ]
  },
  {
   "cell_type": "markdown",
   "metadata": {},
   "source": [
    "# Evaluate on val set\n"
   ]
  },
  {
   "cell_type": "markdown",
   "metadata": {},
   "source": [
    "### Step 1: Prediction on Validation Data\n"
   ]
  },
  {
   "cell_type": "code",
   "execution_count": null,
   "metadata": {},
   "outputs": [
    {
     "name": "stdout",
     "output_type": "stream",
     "text": [
      "   longitude_predicted  latitude_predicted\n",
      "0             2.140414           41.326862\n",
      "1            12.161174           54.159271\n",
      "2            15.761900           37.814476\n",
      "3             9.651759           54.200748\n",
      "4           -80.421547           31.270767\n"
     ]
    }
   ],
   "source": [
    "# Predict on validation set\n",
    "val_preds_lat = model_lat.predict(X_val)\n",
    "val_preds_long = model_long.predict(X_val)\n",
    "\n",
    "# Combine the predicted latitudes and longitudes\n",
    "val_preds_combined = pd.DataFrame({\n",
    "    'longitude_predicted': val_preds_long,\n",
    "    'latitude_predicted': val_preds_lat\n",
    "})\n",
    "print(val_preds_combined.head())\n",
    "\n",
    "# Combine with actual validation data\n",
    "validation_data = X_val.copy()  # This includes the validation features\n",
    "validation_data['latitude'] = y_val['latitude']  # Adding actual latitude\n",
    "validation_data['longitude'] = y_val['longitude']  # Adding actual longitude\n"
   ]
  },
  {
   "cell_type": "markdown",
   "metadata": {},
   "source": [
    "### Step 2: Prepare the Output for Validation\n"
   ]
  },
  {
   "cell_type": "code",
   "execution_count": null,
   "metadata": {},
   "outputs": [
    {
     "name": "stdout",
     "output_type": "stream",
     "text": [
      "         latitude  longitude  time_diff  longitude_predicted  \\\n",
      "1317831  41.33202    2.14637     1261.0             2.140414   \n",
      "1379907  54.14543   12.10472     1261.0            12.161174   \n",
      "339206   37.93537   15.60868     1254.0            15.761900   \n",
      "1375999  54.21292    9.58242     1219.0             9.651759   \n",
      "34927    31.13409  -80.71813     1211.0           -80.421547   \n",
      "\n",
      "         latitude_predicted  \n",
      "1317831           41.326862  \n",
      "1379907           54.159271  \n",
      "339206            37.814476  \n",
      "1375999           54.200748  \n",
      "34927             31.270767  \n",
      "Validation Score (Weighted Geodesic Distance in km): 9.190767113417733\n"
     ]
    }
   ],
   "source": [
    "# Prepare the validation output with predictions\n",
    "validation_output = prepare_output(val_preds_combined.to_numpy(), validation_data)\n",
    "print(validation_output.head())\n",
    "\n",
    "# Calculate the geodesic distance-based score\n",
    "validation_score = calculate_score(validation_output)\n",
    "\n",
    "print(f\"Validation Score (Weighted Geodesic Distance in km): {validation_score}\")\n"
   ]
  },
  {
   "cell_type": "markdown",
   "metadata": {},
   "source": [
    "### Step 3: Make predictions on the test set\n"
   ]
  },
  {
   "cell_type": "code",
   "execution_count": null,
   "metadata": {},
   "outputs": [
    {
     "name": "stdout",
     "output_type": "stream",
     "text": [
      "                  time  time_diff\n",
      "0  2024-05-08 00:03:16     1978.0\n",
      "1  2024-05-08 00:06:17     2523.0\n",
      "2  2024-05-08 00:10:02    40674.0\n",
      "3  2024-05-08 00:10:34     1761.0\n",
      "4  2024-05-08 00:12:27     1620.0\n",
      "   time_diff\n",
      "0     1978.0\n",
      "1     2523.0\n",
      "2    40674.0\n",
      "3     1761.0\n",
      "4     1620.0\n",
      "   latitude  longitude  time_diff\n",
      "0       0.0        0.0     1978.0\n",
      "1       0.0        0.0     2523.0\n",
      "2       0.0        0.0    40674.0\n",
      "3       0.0        0.0     1761.0\n",
      "4       0.0        0.0     1620.0\n",
      "   predicted_latitude  predicted_longitude\n",
      "0          -13.215732             2.193227\n",
      "1          -13.207327             2.219582\n",
      "2          -12.670565             4.478564\n",
      "3          -12.965896             2.193096\n",
      "4          -12.951620             2.193096\n"
     ]
    }
   ],
   "source": [
    "# Assuming you have already preprocessed the test_data and it's ready for predictions\n",
    "test_data = pd.read_csv('data/pre_processed_test_data.csv')\n",
    "print(test_data.head())\n",
    "# Drop the 'time' column only if it exists\n",
    "test_data = test_data.drop(columns=['time'], errors='ignore')\n",
    "print(test_data.head())\n",
    "test_data['longitude'] = 0.0  # or you can use NaN if you prefer\n",
    "test_data['latitude'] = 0.0   # or use NaN\n",
    "\n",
    "# Reorder columns to match the order used in training: ['time_diff', 'longitude', 'latitude']\n",
    "test_data = test_data[['latitude', 'longitude', 'time_diff']]  # Adjust column order\n",
    "\n",
    "print(test_data.head())\n",
    "\n",
    "# Use the trained model to predict on the test data\n",
    "preds_lat = model_lat.predict(test_data)\n",
    "preds_long = model_long.predict(test_data)\n",
    "\n",
    "# Save the predictions\n",
    "submission = pd.DataFrame({\n",
    "    'predicted_latitude': preds_lat,\n",
    "    'predicted_longitude': preds_long\n",
    "})\n",
    "\n",
    "print(submission.head())\n",
    "submission.to_csv('data/final_predictions.csv', index=False)\n"
   ]
  },
  {
   "cell_type": "code",
   "execution_count": null,
   "metadata": {},
   "outputs": [],
   "source": []
  }
 ],
 "metadata": {
  "kernelspec": {
   "display_name": "shipping",
   "language": "python",
   "name": "python3"
  },
  "language_info": {
   "codemirror_mode": {
    "name": "ipython",
    "version": 3
   },
   "file_extension": ".py",
   "mimetype": "text/x-python",
   "name": "python",
   "nbconvert_exporter": "python",
   "pygments_lexer": "ipython3",
   "version": "3.11.9"
  }
 },
 "nbformat": 4,
 "nbformat_minor": 2
}
